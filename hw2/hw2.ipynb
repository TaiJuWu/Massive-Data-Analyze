{
 "cells": [
  {
   "cell_type": "code",
   "execution_count": 1,
   "metadata": {},
   "outputs": [
    {
     "data": {
      "text/plain": [
       "'3.6.12 |Anaconda, Inc.| (default, Sep  8 2020, 23:10:56) \\n[GCC 7.3.0]'"
      ]
     },
     "execution_count": 1,
     "metadata": {},
     "output_type": "execute_result"
    }
   ],
   "source": [
    "import sys\n",
    "sys.version"
   ]
  },
  {
   "cell_type": "markdown",
   "metadata": {},
   "source": [
    "# spark config"
   ]
  },
  {
   "cell_type": "code",
   "execution_count": 2,
   "metadata": {},
   "outputs": [],
   "source": [
    "import pyspark\n",
    "from pyspark import SparkContext, SparkConf\n",
    "\n",
    "conf = SparkConf().setMaster(\"local\").setAppName(\"page_rank\")\n",
    "sc = SparkContext(conf=conf).getOrCreate()"
   ]
  },
  {
   "cell_type": "markdown",
   "metadata": {},
   "source": [
    "# hyper parameter setting"
   ]
  },
  {
   "cell_type": "code",
   "execution_count": 3,
   "metadata": {},
   "outputs": [],
   "source": [
    "beta = 0.8\n",
    "node = 10876\n",
    "iterator = 20"
   ]
  },
  {
   "cell_type": "markdown",
   "metadata": {},
   "source": [
    "# read data"
   ]
  },
  {
   "cell_type": "code",
   "execution_count": 11,
   "metadata": {},
   "outputs": [],
   "source": [
    "with open('p2p-Gnutella04.txt') as fp:\n",
    "    data = fp.readlines()\n",
    "\n",
    "\n",
    "data = data[4:] # filter unnecessary info\n",
    "for i in range(len(data)):\n",
    "    data[i] = data[i].strip().split()# Q: 要改\\t\n",
    "    data[i][0] = int(data[i][0])\n",
    "    data[i][1] = int(data[i][1])\n",
    "# data"
   ]
  },
  {
   "cell_type": "markdown",
   "metadata": {},
   "source": [
    "# 得到M的weight\n",
    "## from_to 代表graph的連線狀況，(s[0],s[1])分別代表from及to\n",
    "## out_degree用來計算每個node的outdegree數目\n",
    "## transistion分別代表(from,(to,out_degree))"
   ]
  },
  {
   "cell_type": "code",
   "execution_count": 12,
   "metadata": {},
   "outputs": [],
   "source": [
    "from_to = sc.parallelize(data).map(lambda s:(s[0], s[1]))\n",
    "out_degree = from_to.groupByKey().map(lambda s:(s[0],1/len(s[1])))\n",
    "transition = from_to.join(out_degree)"
   ]
  },
  {
   "cell_type": "markdown",
   "metadata": {},
   "source": [
    "# 用state代表目前的狀態\n",
    "## 初始化得值為1/N, N是node數量"
   ]
  },
  {
   "cell_type": "code",
   "execution_count": 13,
   "metadata": {},
   "outputs": [],
   "source": [
    "state = [(i, 1/node) for i in range(node)]\n",
    "state = sc.parallelize(state)"
   ]
  },
  {
   "cell_type": "code",
   "execution_count": 14,
   "metadata": {},
   "outputs": [
    {
     "data": {
      "text/plain": [
       "[(0, (1, 0.5)),\n",
       " (0, (2, 0.5)),\n",
       " (2, (0, 0.3333333333333333)),\n",
       " (2, (3, 0.3333333333333333)),\n",
       " (2, (4, 0.3333333333333333)),\n",
       " (4, (0, 0.5)),\n",
       " (4, (3, 0.5)),\n",
       " (1, (3, 1.0))]"
      ]
     },
     "execution_count": 14,
     "metadata": {},
     "output_type": "execute_result"
    }
   ],
   "source": [
    "# transition.collect()"
   ]
  },
  {
   "cell_type": "markdown",
   "metadata": {},
   "source": [
    "# main function\n",
    "## state.join(transition).map()用來計算rj的值\n",
    "## 計算過後的j會當成key,rj是value,再用reduceByKey得到sum(rj)\n",
    "## state.value.sum()得到state的總和，可以用來作normalize\n",
    "## 最後在進行renormalize即可得到結果"
   ]
  },
  {
   "cell_type": "code",
   "execution_count": 8,
   "metadata": {},
   "outputs": [],
   "source": [
    "for i in range(iterator):\n",
    "    state = state.join(transition).map(lambda s:(s[1][1][0],beta*s[1][0]*s[1][1][1])).reduceByKey(lambda x, y:x+y)\n",
    "    sum_of_val = state.values().sum()\n",
    "    # renormalize\n",
    "    state = state.mapValues(lambda x : x + (1-sum_of_val)/node)\n",
    "    state"
   ]
  },
  {
   "cell_type": "markdown",
   "metadata": {},
   "source": [
    "# 依據rank的value排序，並且得到前10高的value"
   ]
  },
  {
   "cell_type": "code",
   "execution_count": 9,
   "metadata": {},
   "outputs": [],
   "source": [
    "result = state.top(10 ,lambda s:s[1])"
   ]
  },
  {
   "cell_type": "markdown",
   "metadata": {},
   "source": [
    "# 將結果寫回檔案"
   ]
  },
  {
   "cell_type": "code",
   "execution_count": 10,
   "metadata": {},
   "outputs": [],
   "source": [
    "with open('Outputfile.txt', 'w') as fp:\n",
    "    for i in range(len(result)):\n",
    "        fp.write(str(result[i][0])+'\\t'+str(result[i][1])+'\\n')"
   ]
  },
  {
   "cell_type": "code",
   "execution_count": null,
   "metadata": {},
   "outputs": [],
   "source": []
  }
 ],
 "metadata": {
  "kernelspec": {
   "display_name": "Python 3",
   "language": "python",
   "name": "python3"
  },
  "language_info": {
   "codemirror_mode": {
    "name": "ipython",
    "version": 3
   },
   "file_extension": ".py",
   "mimetype": "text/x-python",
   "name": "python",
   "nbconvert_exporter": "python",
   "pygments_lexer": "ipython3",
   "version": "3.6.12"
  }
 },
 "nbformat": 4,
 "nbformat_minor": 4
}
