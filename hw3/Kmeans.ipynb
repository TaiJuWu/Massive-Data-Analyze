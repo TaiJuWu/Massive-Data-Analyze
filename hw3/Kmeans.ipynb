{
 "cells": [
  {
   "cell_type": "code",
   "execution_count": 1,
   "metadata": {},
   "outputs": [
    {
     "data": {
      "text/plain": [
       "'3.6.12 |Anaconda, Inc.| (default, Sep  8 2020, 23:10:56) \\n[GCC 7.3.0]'"
      ]
     },
     "execution_count": 1,
     "metadata": {},
     "output_type": "execute_result"
    }
   ],
   "source": [
    "import sys\n",
    "sys.version"
   ]
  },
  {
   "cell_type": "code",
   "execution_count": 2,
   "metadata": {},
   "outputs": [],
   "source": [
    "import pyspark\n",
    "from pyspark import SparkContext, SparkConf\n",
    "import numpy as np\n",
    "import pandas as pd\n",
    "import math\n",
    "import matplotlib.pyplot as plt\n",
    "import numpy as np\n",
    "\n",
    "conf = SparkConf().setMaster(\"local\").setAppName(\"K_means\")\n",
    "sc = SparkContext(conf=conf).getOrCreate()"
   ]
  },
  {
   "cell_type": "markdown",
   "metadata": {},
   "source": [
    "# 讀取資料"
   ]
  },
  {
   "cell_type": "code",
   "execution_count": 3,
   "metadata": {},
   "outputs": [],
   "source": [
    "def readCentroids(_input):\n",
    "    with open(_input) as fp:\n",
    "        c1 = fp.readlines()\n",
    "\n",
    "    for i in range(len(c1)):\n",
    "        c1[i] = c1[i].strip().split()\n",
    "    for i in range(len(c1)):\n",
    "        for j in range(len(c1[i])):\n",
    "            c1[i][j] = float(c1[i][j])\n",
    "    k ,dim = len(c1), len(c1[0])\n",
    "    return c1, k, dim\n"
   ]
  },
  {
   "cell_type": "code",
   "execution_count": 4,
   "metadata": {},
   "outputs": [],
   "source": [
    "def readData(_input):\n",
    "    with open(_input) as fp:\n",
    "        data = fp.readlines()\n",
    "\n",
    "    for i in range(len(data)):\n",
    "        data[i] = data[i].strip().split()\n",
    "\n",
    "    for i in range(len(data)):\n",
    "        for j in range(len(data[i])):\n",
    "            data[i][j] = float(data[i][j])\n",
    "\n",
    "    for i in range(len(data)):\n",
    "        data[i] = tuple(data[i])\n",
    "    \n",
    "    return data"
   ]
  },
  {
   "cell_type": "markdown",
   "metadata": {},
   "source": [
    "# 兩種計算distance的方式"
   ]
  },
  {
   "cell_type": "code",
   "execution_count": 5,
   "metadata": {},
   "outputs": [],
   "source": [
    "def Euclidean_dis_list(a ,b):\n",
    "    Euc_dis_square = sum([math.pow(a_ - b_, 2) for a_, b_ in zip(a, b)])    \n",
    "    return math.sqrt(Euc_dis_square)"
   ]
  },
  {
   "cell_type": "code",
   "execution_count": 6,
   "metadata": {},
   "outputs": [],
   "source": [
    "def Manhattan_dis_list(a ,b):\n",
    "    return sum([abs(a_ - b_) for a_, b_ in zip(a, b)])"
   ]
  },
  {
   "cell_type": "code",
   "execution_count": 7,
   "metadata": {},
   "outputs": [],
   "source": [
    "def add(a ,b):\n",
    "    return [a_ + b_ for a_, b_ in zip(a, b)]"
   ]
  },
  {
   "cell_type": "markdown",
   "metadata": {},
   "source": [
    "# 兩種distance的mpper function"
   ]
  },
  {
   "cell_type": "code",
   "execution_count": 8,
   "metadata": {},
   "outputs": [],
   "source": [
    "def get_Euc_dis(_input):\n",
    "    global centroids, k\n",
    "    return_list = []\n",
    "    \n",
    "    for j in range(k):\n",
    "        dis = Euclidean_dis_list(_input, centroids[j])\n",
    "        return_list.append(dis)\n",
    "    return (_input, return_list)"
   ]
  },
  {
   "cell_type": "code",
   "execution_count": 9,
   "metadata": {},
   "outputs": [],
   "source": [
    "def get_Man_dis(_input):\n",
    "    global centroids, k\n",
    "    return_list = []\n",
    "    \n",
    "    for j in range(k):\n",
    "        dis = Manhattan_dis_list(_input, centroids[j])\n",
    "        return_list.append(dis)\n",
    "    return (_input, return_list)"
   ]
  },
  {
   "cell_type": "markdown",
   "metadata": {},
   "source": [
    "# 更新centroid的mapper function"
   ]
  },
  {
   "cell_type": "code",
   "execution_count": 10,
   "metadata": {},
   "outputs": [],
   "source": [
    "def cal_new_centroid(_input):\n",
    "    group_id = _input[0]\n",
    "    group_sum = _input[1][0]\n",
    "    group_len = len(_input[1][1])\n",
    "    centroid = [sum_ / group_len for sum_ in group_sum]\n",
    "    return (group_id, centroid)"
   ]
  },
  {
   "cell_type": "markdown",
   "metadata": {},
   "source": [
    "# 針對每個cluster, 分別計算它們的cost"
   ]
  },
  {
   "cell_type": "code",
   "execution_count": 11,
   "metadata": {},
   "outputs": [],
   "source": [
    "def cal_total_Euc_cost(_input):\n",
    "    centroid = _input[1][0]\n",
    "    cluster_list = _input[1][1]\n",
    "    cost = 0\n",
    "    for cluster in cluster_list:\n",
    "        cost += Euclidean_dis_list(centroid, cluster)\n",
    "    return (_input[0], cost)"
   ]
  },
  {
   "cell_type": "code",
   "execution_count": 12,
   "metadata": {},
   "outputs": [],
   "source": [
    "def cal_total_Man_cost(_input):\n",
    "    centroid = _input[1][0]\n",
    "    cluster_list = _input[1][1]\n",
    "    cost = 0\n",
    "    for cluster in cluster_list:\n",
    "        cost += Manhattan_dis_list(centroid, cluster)\n",
    "    return (_input[0], cost)"
   ]
  },
  {
   "cell_type": "markdown",
   "metadata": {},
   "source": [
    "# 用Euclidean來計算Kmeans\n",
    "## step1: 先針對每個點進行cluster的分配\n",
    "## step2: 計算centroids\n",
    "## step3: update centroids"
   ]
  },
  {
   "cell_type": "code",
   "execution_count": 13,
   "metadata": {},
   "outputs": [],
   "source": [
    "def Euclidean(data, iters):\n",
    "    global centroids\n",
    "    data = sc.parallelize(data)\n",
    "    cost_history = []\n",
    "    centroids_history = []\n",
    "    group_history = []\n",
    "    for i in range(MAX_ITERS):\n",
    "        # step1\n",
    "        dis = data.map(get_Euc_dis) # get each point to each centriod distance (point, [point to each centriod distance])\n",
    "        dis_idx = dis.map(lambda s: (s[0], s[1].index(min(s[1])))) # get the idx of min distance (point, min centriod idx)\n",
    "        cluster_group = dis_idx.map(lambda s: (s[1], s[0])).groupByKey() # get cluster number (centriod idx, cluster list)\n",
    "        # step2\n",
    "        new_centroids_sum = dis_idx.map(lambda s: (s[1], s[0])).reduceByKey(add).join(cluster_group) # (centriod idx,(cluster sum, cluster list))\n",
    "        new_centroids = new_centroids_sum.map(cal_new_centroid) # get new centriods (centriod idx, centriod position)\n",
    "        centroids_history.append(new_centroids.collect().copy())\n",
    "        # calculate cost\n",
    "        cost = sc.parallelize(enumerate(centroids)).join(cluster_group).map(cal_total_Euc_cost) # calculate cost (centriod idx, (centriod pos, cluster list))\n",
    "        cost_history.append(cost.collect())\n",
    "        # step3: update\n",
    "        for idx, val in new_centroids.collect(): # update centeriods\n",
    "            centroids[idx] = val\n",
    "    return cost_history, centroids_history"
   ]
  },
  {
   "cell_type": "code",
   "execution_count": 14,
   "metadata": {},
   "outputs": [],
   "source": [
    "def get_total_cost(c1_cost_history):\n",
    "    c1_total_cost_list = []\n",
    "    for i in range(len(c1_cost_history)):\n",
    "        total_cost = 0\n",
    "        for j in range(len(c1_cost_history[i])):\n",
    "            k, value = c1_cost_history[i][j]\n",
    "            total_cost += value\n",
    "        c1_total_cost_list.append(total_cost)\n",
    "    return c1_total_cost_list"
   ]
  },
  {
   "cell_type": "code",
   "execution_count": 15,
   "metadata": {},
   "outputs": [],
   "source": [
    "def get_Euc_pair(centroids, outputFile):\n",
    "    res = np.zeros((k, k))\n",
    "    for i in range(k):\n",
    "        for j in range(i,k):\n",
    "            res[i][j] = Euclidean_dis_list(centroids[i], centroids[j])\n",
    "    res = pd.DataFrame(res)\n",
    "    res.to_csv(outputFile)\n",
    "    return res"
   ]
  },
  {
   "cell_type": "code",
   "execution_count": 16,
   "metadata": {},
   "outputs": [],
   "source": [
    "def get_Man_pair(centroids, outputFile):\n",
    "    res = np.zeros((k, k))\n",
    "    for i in range(k):\n",
    "        for j in range(i,k):\n",
    "            res[i][j] = Manhattan_dis_list(centroids[i], centroids[j])\n",
    "    res = pd.DataFrame(res)\n",
    "    res.to_csv(outputFile)\n",
    "    return res"
   ]
  },
  {
   "cell_type": "markdown",
   "metadata": {},
   "source": [
    "# Euclidean"
   ]
  },
  {
   "cell_type": "code",
   "execution_count": 17,
   "metadata": {},
   "outputs": [],
   "source": [
    "MAX_ITERS = 20\n",
    "centroids, k ,dim = readCentroids('c1.txt')\n",
    "data = readData('data.txt')\n",
    "c1_cost_history, c1_centroids_history = Euclidean(data, MAX_ITERS)"
   ]
  },
  {
   "cell_type": "code",
   "execution_count": 18,
   "metadata": {},
   "outputs": [],
   "source": [
    "# MAX_ITERS = 20\n",
    "centroids, k ,dim = readCentroids('c2.txt')\n",
    "data = readData('data.txt')\n",
    "c2_cost_history, c2_centroids_history = Euclidean(data, MAX_ITERS)"
   ]
  },
  {
   "cell_type": "code",
   "execution_count": null,
   "metadata": {},
   "outputs": [],
   "source": []
  },
  {
   "cell_type": "code",
   "execution_count": null,
   "metadata": {},
   "outputs": [],
   "source": []
  },
  {
   "cell_type": "code",
   "execution_count": 19,
   "metadata": {},
   "outputs": [
    {
     "data": {
      "image/png": "[encoded data removed]",
      "text/plain": [
       "<Figure size 432x288 with 1 Axes>"
      ]
     },
     "metadata": {
      "needs_background": "light"
     },
     "output_type": "display_data"
    }
   ],
   "source": [
    "import matplotlib.pyplot as plt\n",
    "import numpy as np\n",
    "\n",
    "x_lab = np.arange(1, MAX_ITERS+1)\n",
    "c1_Euc_cost = get_total_cost(c1_cost_history)\n",
    "c2_Euc_cost = get_total_cost(c2_cost_history)\n",
    "plt.title(\"Euclidean\") \n",
    "c1 = plt.plot(x_lab, c1_Euc_cost, label = 'c1_cost')\n",
    "c2 = plt.plot(x_lab, c2_Euc_cost, label = 'c2_cost')\n",
    "\n",
    "plt.legend([\"c1 cost\", \"c2 cost\"])\n",
    "plt.xticks(x_lab)\n",
    "plt.savefig(\"euclidean.png\")"
   ]
  },
  {
   "cell_type": "code",
   "execution_count": 20,
   "metadata": {},
   "outputs": [
    {
     "name": "stdout",
     "output_type": "stream",
     "text": [
      "c1 cost improvement 0.16569281783988665\n"
     ]
    }
   ],
   "source": [
    "print('c1 cost improvement', abs(c1_Euc_cost[19] - c1_Euc_cost[0]) / c1_Euc_cost[0])"
   ]
  },
  {
   "cell_type": "code",
   "execution_count": 21,
   "metadata": {
    "scrolled": true
   },
   "outputs": [
    {
     "name": "stdout",
     "output_type": "stream",
     "text": [
      "c2 cost improvement 0.6160346247542591\n"
     ]
    }
   ],
   "source": [
    "print('c2 cost improvement', abs(c2_Euc_cost[19] - c2_Euc_cost[0]) / c2_Euc_cost[0])"
   ]
  },
  {
   "cell_type": "code",
   "execution_count": 22,
   "metadata": {},
   "outputs": [],
   "source": [
    "last_round_centroids = []\n",
    "for i in range(k):\n",
    "    last_round_centroids.append(c1_centroids_history[-1][i][1])\n",
    "res=get_Euc_pair(last_round_centroids, 'c1_Euc.csv')"
   ]
  },
  {
   "cell_type": "code",
   "execution_count": 23,
   "metadata": {},
   "outputs": [],
   "source": [
    "last_round_centroids = []\n",
    "for i in range(k):\n",
    "    last_round_centroids.append(c2_centroids_history[-1][i][1])\n",
    "res=get_Euc_pair(last_round_centroids, 'c2_Euc.csv')"
   ]
  },
  {
   "cell_type": "code",
   "execution_count": 24,
   "metadata": {},
   "outputs": [],
   "source": [
    "last_round_centroids = []\n",
    "for i in range(k):\n",
    "    last_round_centroids.append(c1_centroids_history[-1][i][1])\n",
    "res=get_Man_pair(last_round_centroids, 'c1_EucUpdate_ManCal.csv')"
   ]
  },
  {
   "cell_type": "code",
   "execution_count": 25,
   "metadata": {},
   "outputs": [],
   "source": [
    "last_round_centroids = []\n",
    "for i in range(k):\n",
    "    last_round_centroids.append(c2_centroids_history[-1][i][1])\n",
    "res=get_Man_pair(last_round_centroids, 'c2_EucUpdate_ManCal.csv')"
   ]
  },
  {
   "cell_type": "markdown",
   "metadata": {},
   "source": [
    "# Manhattan"
   ]
  },
  {
   "cell_type": "code",
   "execution_count": 26,
   "metadata": {},
   "outputs": [],
   "source": [
    "def Manhattan(data, iters):\n",
    "    global centroids\n",
    "    data = sc.parallelize(data)\n",
    "    cost_history = []\n",
    "    centroids_history = []\n",
    "    group_history = []\n",
    "    for i in range(MAX_ITERS):\n",
    "        dis = data.map(get_Man_dis) # get each point to each centriod distance (point, [point to each centriod distance])\n",
    "        dis_idx = dis.map(lambda s: (s[0], s[1].index(min(s[1])))) # get the idx of min distance (point, min centriod idx)\n",
    "        cluster_group = dis_idx.map(lambda s: (s[1], s[0])).groupByKey() # get cluster number (centriod idx, cluster list)\n",
    "        new_centroids_sum = dis_idx.map(lambda s: (s[1], s[0])).reduceByKey(add).join(cluster_group) # (centriod idx,(cluster sum, cluster list))\n",
    "        new_centroids = new_centroids_sum.map(cal_new_centroid) # get new centriods (centriod idx, centriod position)\n",
    "        centroids_history.append(new_centroids.collect().copy())\n",
    "        cost = sc.parallelize(enumerate(centroids)).join(cluster_group).map(cal_total_Man_cost) # calculate cost (centriod idx, (centriod pos, cluster list))\n",
    "        cost_history.append(cost.collect())\n",
    "\n",
    "        for idx, val in new_centroids.collect(): # update centeriods\n",
    "            centroids[idx] = val\n",
    "    return cost_history, centroids_history"
   ]
  },
  {
   "cell_type": "code",
   "execution_count": null,
   "metadata": {},
   "outputs": [],
   "source": []
  },
  {
   "cell_type": "code",
   "execution_count": 27,
   "metadata": {},
   "outputs": [],
   "source": [
    "# MAX_ITERS = 20\n",
    "centroids, k ,dim = readCentroids('c1.txt')\n",
    "data = readData('data.txt')\n",
    "c1_cost_history, c1_centroids_history = Manhattan(data, MAX_ITERS)"
   ]
  },
  {
   "cell_type": "code",
   "execution_count": 28,
   "metadata": {},
   "outputs": [],
   "source": [
    "# MAX_ITERS = 20\n",
    "centroids, k ,dim = readCentroids('c2.txt')\n",
    "data = readData('data.txt')\n",
    "c2_cost_history, c2_centroids_history = Manhattan(data, MAX_ITERS)"
   ]
  },
  {
   "cell_type": "code",
   "execution_count": null,
   "metadata": {},
   "outputs": [],
   "source": []
  },
  {
   "cell_type": "code",
   "execution_count": null,
   "metadata": {},
   "outputs": [],
   "source": []
  },
  {
   "cell_type": "code",
   "execution_count": 29,
   "metadata": {
    "scrolled": true
   },
   "outputs": [
    {
     "data": {
      "image/png": "[encoded data removed]",
      "text/plain": [
       "<Figure size 432x288 with 1 Axes>"
      ]
     },
     "metadata": {
      "needs_background": "light"
     },
     "output_type": "display_data"
    }
   ],
   "source": [
    "x_lab = np.arange(1, MAX_ITERS+1)\n",
    "c1_Man_cost = get_total_cost(c1_cost_history)\n",
    "c2_Man_cost = get_total_cost(c2_cost_history)\n",
    "plt.title(\"Manhatan\") \n",
    "c1 = plt.plot(x_lab, c1_Man_cost, label = 'c1_cost')\n",
    "c2 = plt.plot(x_lab, c2_Man_cost, label = 'c2_cost')\n",
    "\n",
    "plt.legend([\"c1 cost\", \"c2 cost\"])\n",
    "plt.xticks(x_lab)\n",
    "plt.savefig(\"Manhattan.png\")"
   ]
  },
  {
   "cell_type": "code",
   "execution_count": 30,
   "metadata": {},
   "outputs": [
    {
     "name": "stdout",
     "output_type": "stream",
     "text": [
      "c1 cost improvement 0.18378954327236885\n"
     ]
    }
   ],
   "source": [
    "print('c1 cost improvement', abs(c1_Man_cost[19] - c1_Man_cost[0]) / c1_Man_cost[0])"
   ]
  },
  {
   "cell_type": "code",
   "execution_count": 31,
   "metadata": {},
   "outputs": [
    {
     "name": "stdout",
     "output_type": "stream",
     "text": [
      "c2 cost improvement 0.5468569434813407\n"
     ]
    }
   ],
   "source": [
    "print('c2 cost improvement', abs(c2_Man_cost[19] - c2_Man_cost[0]) / c2_Man_cost[0])"
   ]
  },
  {
   "cell_type": "code",
   "execution_count": 32,
   "metadata": {},
   "outputs": [],
   "source": [
    "last_round_centroids = []\n",
    "for i in range(k):\n",
    "    last_round_centroids.append(c1_centroids_history[-1][i][1])\n",
    "res=get_Euc_pair(last_round_centroids, 'c1_ManUpdate_EucCal.csv')"
   ]
  },
  {
   "cell_type": "code",
   "execution_count": 33,
   "metadata": {},
   "outputs": [],
   "source": [
    "last_round_centroids = []\n",
    "for i in range(k):\n",
    "    last_round_centroids.append(c2_centroids_history[-1][i][1])\n",
    "res=get_Euc_pair(last_round_centroids, 'c2_ManUpdate_EucCal.csv')"
   ]
  },
  {
   "cell_type": "code",
   "execution_count": 34,
   "metadata": {},
   "outputs": [],
   "source": [
    "last_round_centroids = []\n",
    "for i in range(k):\n",
    "    last_round_centroids.append(c1_centroids_history[-1][i][1])\n",
    "res=get_Man_pair(last_round_centroids, 'c1_Man.csv')"
   ]
  },
  {
   "cell_type": "code",
   "execution_count": 35,
   "metadata": {},
   "outputs": [],
   "source": [
    "last_round_centroids = []\n",
    "for i in range(k):\n",
    "    last_round_centroids.append(c2_centroids_history[-1][i][1])\n",
    "res=get_Man_pair(last_round_centroids, 'c2_Man.csv')"
   ]
  }
 ],
 "metadata": {
  "kernelspec": {
   "display_name": "Python 3",
   "language": "python",
   "name": "python3"
  },
  "language_info": {
   "codemirror_mode": {
    "name": "ipython",
    "version": 3
   },
   "file_extension": ".py",
   "mimetype": "text/x-python",
   "name": "python",
   "nbconvert_exporter": "python",
   "pygments_lexer": "ipython3",
   "version": "3.6.12"
  }
 },
 "nbformat": 4,
 "nbformat_minor": 4
}
