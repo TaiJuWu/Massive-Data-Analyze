{
 "cells": [
  {
   "cell_type": "code",
   "execution_count": 1,
   "metadata": {},
   "outputs": [
    {
     "data": {
      "text/plain": [
       "'3.6.12 |Anaconda, Inc.| (default, Sep  8 2020, 23:10:56) \\n[GCC 7.3.0]'"
      ]
     },
     "execution_count": 1,
     "metadata": {},
     "output_type": "execute_result"
    }
   ],
   "source": [
    "import sys\n",
    "sys.version"
   ]
  },
  {
   "cell_type": "markdown",
   "metadata": {},
   "source": [
    "# 對pyspark進行設定\n",
    "spark在local端運行\n",
    "\n",
    "app的名稱為maxtrix_mul"
   ]
  },
  {
   "cell_type": "code",
   "execution_count": 2,
   "metadata": {},
   "outputs": [],
   "source": [
    "from pyspark import SparkContext, SparkConf\n",
    "\n",
    "conf = SparkConf().setMaster(\"local\").setAppName(\"matrix_mul\")\n",
    "sc = SparkContext(conf=conf).getOrCreate()"
   ]
  },
  {
   "cell_type": "markdown",
   "metadata": {},
   "source": [
    "# 讀取資料"
   ]
  },
  {
   "cell_type": "code",
   "execution_count": 3,
   "metadata": {},
   "outputs": [],
   "source": [
    "def readData(fileName):\n",
    "    M = list()\n",
    "    N = list()\n",
    "    with open(fileName, 'r') as fp:\n",
    "        data = fp.readlines()\n",
    "    for i in range(len(data)):\n",
    "        data[i] = data[i].split(',')\n",
    "        if data[i][0] == 'M':\n",
    "            M.append((int(data[i][1]), int(data[i][2]), int(data[i][3])))\n",
    "        if data[i][0] == 'N':\n",
    "            N.append((int(data[i][1]), int(data[i][2]), int(data[i][3])))\n",
    "    return M, N"
   ]
  },
  {
   "cell_type": "markdown",
   "metadata": {},
   "source": [
    "# 將Data變成M(k, (i, val))與N(k, (j, val))\n",
    "首先將M, N轉為rdd的格式\n",
    "\n",
    "M: Mik => M得第ik個元素\n",
    "N: Nkj => N的第kj個元素\n",
    "\n",
    "然後將M, N以k 為key進行儲存，未來可以得到每個Rij"
   ]
  },
  {
   "cell_type": "code",
   "execution_count": 4,
   "metadata": {},
   "outputs": [],
   "source": [
    "M, N = readData('500input.txt')\n",
    "M = sc.parallelize(M)\n",
    "N = sc.parallelize(N)\n",
    "\n",
    "\n",
    "Mik = M.map(lambda s: (s[1], (s[0], s[2])))\n",
    "Nkj = N.map(lambda s: (s[0], (s[1], s[2])))"
   ]
  },
  {
   "cell_type": "code",
   "execution_count": 5,
   "metadata": {},
   "outputs": [],
   "source": [
    "# print(Mik.collect())\n",
    "# print(Nkj.collect())"
   ]
  },
  {
   "cell_type": "markdown",
   "metadata": {},
   "source": [
    "# 計算個別的R(i, j) 的值\n",
    "利用join將所有的k形成(k, (Mik,val), (Nkj, val)) pair\n",
    "\n",
    "再利用map將結果轉換為(i, j):val"
   ]
  },
  {
   "cell_type": "code",
   "execution_count": 6,
   "metadata": {},
   "outputs": [],
   "source": [
    "Rij = Mik.join(Nkj)\n",
    "Rij = Rij.map(lambda s: ((s[1][0][0], s[1][1][0]) ,s[1][0][1]*s[1][1][1]))"
   ]
  },
  {
   "cell_type": "code",
   "execution_count": 7,
   "metadata": {},
   "outputs": [],
   "source": [
    "# Rij.collect()"
   ]
  },
  {
   "cell_type": "markdown",
   "metadata": {},
   "source": [
    "# 利用redueBykey將所有相同的key的val相加\n",
    "得到sum(Rij)\n",
    "\n",
    "再利用sortedByKey對每個pair進行排序"
   ]
  },
  {
   "cell_type": "code",
   "execution_count": 8,
   "metadata": {},
   "outputs": [],
   "source": [
    "result = Rij.reduceByKey(lambda x, y: x+y)\n",
    "sorted_result = result.sortByKey()\n",
    "\n",
    "sorted_result = sorted_result.collect()"
   ]
  },
  {
   "cell_type": "markdown",
   "metadata": {},
   "source": [
    "# 將結果寫入檔案"
   ]
  },
  {
   "cell_type": "code",
   "execution_count": 9,
   "metadata": {},
   "outputs": [],
   "source": [
    "with open(\"Outputfile.txt\", 'w') as fp:\n",
    "    for i in range(len(sorted_result)):\n",
    "        idx, val = sorted_result[i]\n",
    "        row = idx[0]\n",
    "        col = idx[1]\n",
    "        fp.write(str(row) + ',' + str(col) + ',' + str(val) + '\\n')"
   ]
  }
 ],
 "metadata": {
  "kernelspec": {
   "display_name": "Python 3",
   "language": "python",
   "name": "python3"
  },
  "language_info": {
   "codemirror_mode": {
    "name": "ipython",
    "version": 3
   },
   "file_extension": ".py",
   "mimetype": "text/x-python",
   "name": "python",
   "nbconvert_exporter": "python",
   "pygments_lexer": "ipython3",
   "version": "3.6.12"
  }
 },
 "nbformat": 4,
 "nbformat_minor": 4
}
