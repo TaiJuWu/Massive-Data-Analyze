{
 "cells": [
  {
   "cell_type": "code",
   "execution_count": 1,
   "metadata": {},
   "outputs": [
    {
     "data": {
      "text/plain": [
       "'3.6.12 |Anaconda, Inc.| (default, Sep  8 2020, 23:10:56) \\n[GCC 7.3.0]'"
      ]
     },
     "execution_count": 1,
     "metadata": {},
     "output_type": "execute_result"
    }
   ],
   "source": [
    "import sys\n",
    "sys.version"
   ]
  },
  {
   "cell_type": "code",
   "execution_count": 2,
   "metadata": {},
   "outputs": [],
   "source": [
    "import pyspark\n",
    "from pyspark import SparkContext, SparkConf\n",
    "import numpy as np\n",
    "import pandas as pd\n",
    "import math\n",
    "import matplotlib.pyplot as plt\n",
    "import numpy as np\n",
    "import os\n",
    "\n",
    "\n",
    "conf = SparkConf().setMaster(\"local\").setAppName(\"LHS\")\n",
    "sc = SparkContext(conf=conf).getOrCreate()"
   ]
  },
  {
   "cell_type": "markdown",
   "metadata": {},
   "source": [
    "# create hash function paramater\n",
    "## 創造hash function的a,b和prime，並且將他們儲存成一個list"
   ]
  },
  {
   "cell_type": "code",
   "execution_count": 3,
   "metadata": {},
   "outputs": [],
   "source": [
    "prime = \"\"\"\n",
    "33599 33601 33613 33617 33619 33623 33629 33637 33641 33647 \n",
    "33679 33703 33713 33721 33739 33749 33751 33757 33767 33769 \n",
    "33773 33791 33797 33809 33811 33827 33829 33851 33857 33863 \n",
    "33871 33889 33893 33911 33923 33931 33937 33941 33961 33967 \n",
    "33997 34019 34031 34033 34039 34057 34061 34123 34127 34129 \n",
    "34141 34147 34157 34159 34171 34183 34211 34213 34217 34231 \n",
    "34253 34259 34261 34267 34273 34283 34297 34301 34303 34313 \n",
    "34319 34327 34337 34351 34361 34367 34369 34381 34403 34421 \n",
    "34429 34439 34457 34469 34471 34483 34487 34499 34501 34511 \n",
    "34513 34519 34537 34543 34549 34583 34589 34591 34603 34607 \n",
    "34613 34631 34649 34651 34667 34673 34679 34687 34693 34703 \n",
    "34721 34729 34739 34747 34757 34759 34763 34781 34807 34819 \n",
    "34841 34843 34847 34849 34871 34877 34883 34897 34913 34919 \n",
    "34939 34949 34961 34963 34981 35023 35027 35051 35053 35059 \n",
    "35069 35081 35083 35089 35099 35107 35111 35117 35129 35141 \n",
    "35149 35153 35159 35171 35201 35221 35227 35251 35257 35267 \n",
    "35279 35281 35291 35311 35317 35323 35327 35339 35353 35363 \n",
    "35381 35393 35401 35407 35419 35423 35437 35447 35449 35461 \n",
    "35491 35507 35509 35521 35527 35531 35533 35537 35543 35569 \n",
    "35573 35591 35593 35597 35603 35617 35671 35677 35729 35731 \n",
    "\n",
    "\"\"\"\n",
    "prime_list= list(map(int , prime.split()))"
   ]
  },
  {
   "cell_type": "code",
   "execution_count": 4,
   "metadata": {},
   "outputs": [],
   "source": [
    "import random\n",
    "\n",
    "hash_num = 100\n",
    "a_para = list()\n",
    "b_para = list()\n",
    "prime = list()\n",
    "\n",
    "\n",
    "for i in range(hash_num):\n",
    "    a_para.append(random.randint(1, 100000))\n",
    "    b_para.append(random.randint(1, 100000))\n",
    "\n",
    "while(len(prime) < 100):\n",
    "    temp = random.choice(prime_list)\n",
    "    if temp not in prime:\n",
    "        prime.append(temp)\n",
    "        \n",
    "hash_fun = [ele for ele in zip(a_para, b_para, prime)]"
   ]
  },
  {
   "cell_type": "markdown",
   "metadata": {},
   "source": [
    "# Find singles in documents\n",
    "### 從文章中找出所有shingle\n",
    "### all_shingle儲存documents當中出現的所有shingle\n",
    "### shingle_in_each_doc替每個文章儲存他們的shingle\n",
    "### 並且mapping成一個數字"
   ]
  },
  {
   "cell_type": "code",
   "execution_count": 5,
   "metadata": {},
   "outputs": [],
   "source": [
    "dir_path = 'athletics'\n",
    "files = sorted(os.listdir(dir_path))\n",
    "docs = list()\n",
    "doc_counter = len(files)\n",
    "\n",
    "temp_count = 0\n",
    "\n",
    "for file in files:\n",
    "    doc = ''\n",
    "    with open(os.path.join(dir_path, file)) as fp:\n",
    "         data = fp.readlines()\n",
    "    for i in range(len(data)):\n",
    "        doc += data[i].replace('\\n', '').replace(',', '').replace('\"', '').replace('.', '').lower()\n",
    "    docs.append(doc.split())"
   ]
  },
  {
   "cell_type": "code",
   "execution_count": 6,
   "metadata": {},
   "outputs": [],
   "source": [
    "all_shingle = list()\n",
    "shingle_in_each_doc = list()\n",
    "shingle_num = 0\n",
    "\n",
    "for i in range(len(docs)):\n",
    "    shingles_in_doc = set()\n",
    "    for j in range(1, len(docs[i])-1):\n",
    "        shingle = docs[i][j-1] + \" \" + docs[i][j] + \" \" + docs[i][j+1]\n",
    "        shingles_in_doc.add(shingle)\n",
    "        if shingle not in all_shingle:\n",
    "            all_shingle.append((shingle, shingle_num))\n",
    "            shingle_num += 1\n",
    "    shingle_in_each_doc.append((i, shingles_in_doc))"
   ]
  },
  {
   "cell_type": "markdown",
   "metadata": {},
   "source": [
    "### create shingles mapping"
   ]
  },
  {
   "cell_type": "code",
   "execution_count": 7,
   "metadata": {},
   "outputs": [],
   "source": [
    "shingle_map = sc.parallelize(all_shingle)\n",
    "reverse_shingle_map = shingle_map.map(lambda s: (s[1], s[0]))"
   ]
  },
  {
   "cell_type": "code",
   "execution_count": 8,
   "metadata": {},
   "outputs": [],
   "source": [
    "# 這個或許可以改成RDD的方式\n",
    "shingle_map = dict(all_shingle)\n",
    "shingle_in_each_doc_map_res = []\n",
    "\n",
    "for ele in shingle_in_each_doc:\n",
    "    temp = []\n",
    "    doc_num, shingles = ele\n",
    "    temp.append(doc_num)\n",
    "    temp2 = []\n",
    "    for shingle in list(shingles):\n",
    "        temp2.append(shingle_map[shingle])\n",
    "    temp.append(temp2)\n",
    "    shingle_in_each_doc_map_res.append(temp)"
   ]
  },
  {
   "cell_type": "markdown",
   "metadata": {},
   "source": [
    "# min-hashing\n",
    "### 將文章中每個shingle進行min hashing的計算\n",
    "### res原本是(docID, (hashID, hash_res))的形式\n",
    "### 後來將res改成signature得形式((hashID,docID), hash_res)\n",
    "### 最後利用groupByKey與min取得signature"
   ]
  },
  {
   "cell_type": "code",
   "execution_count": 9,
   "metadata": {},
   "outputs": [],
   "source": [
    "# test version\n",
    "N = len(all_shingle)\n",
    "def min_hash(s):\n",
    "    res = []\n",
    "    for i in range(len(hash_fun)):\n",
    "        a, b, p = hash_fun[i]\n",
    "        for j in range(len(s)):\n",
    "            res.append((i,(a*s[j]+b)%p%N))\n",
    "    return res\n",
    "\n",
    "shingle_in_each_doc_RDD = sc.parallelize(shingle_in_each_doc_map_res)\n",
    "min_hash_res = shingle_in_each_doc_RDD.mapValues(min_hash).flatMapValues(lambda s:s).map(lambda s: ((s[1][0], s[0]), s[1][1]))\n",
    "signature = min_hash_res.groupByKey().map(lambda s:(s[0], min(s[1])))"
   ]
  },
  {
   "cell_type": "markdown",
   "metadata": {},
   "source": [
    "# LSH\n",
    "### 將rows轉換成band idx\n",
    "### 以(bandID, bucketID)為key，col為value\n",
    "### 將上述結果group起來，最後的value就是condidate pair"
   ]
  },
  {
   "cell_type": "code",
   "execution_count": 10,
   "metadata": {},
   "outputs": [],
   "source": [
    "# paramater setting\n",
    "band = 50\n",
    "r = len(hash_fun) / band\n",
    "bucket_size = 10000000"
   ]
  },
  {
   "cell_type": "code",
   "execution_count": 11,
   "metadata": {},
   "outputs": [],
   "source": [
    "LSH_res = signature.map(lambda s: ((s[0][0]//r, s[0][1]), s[1])).map(lambda s: ((s[0][0], s[1]%bucket_size), s[0][1]))\n",
    "candidate_pair = [ sorted(list(set(ele[1]))) for ele in LSH_res.groupByKey().filter(lambda s: len(s[1])>1).collect()]"
   ]
  },
  {
   "cell_type": "code",
   "execution_count": 12,
   "metadata": {},
   "outputs": [],
   "source": [
    "def Jaccard_sim(doc1, doc2):\n",
    "    set1 = shingle_in_each_doc[doc1][1]\n",
    "    set2 = shingle_in_each_doc[doc2][1]\n",
    "    inter = set1.intersection(set2)\n",
    "    union = set1.union(set2)\n",
    "    return len(inter)/len(union)"
   ]
  },
  {
   "cell_type": "markdown",
   "metadata": {},
   "source": [
    "# 針對每一個candidate_pair計算他們的Jaccard_sim"
   ]
  },
  {
   "cell_type": "code",
   "execution_count": 13,
   "metadata": {},
   "outputs": [],
   "source": [
    "Jaccard_res = dict()\n",
    "\n",
    "candidate_pair = list(candidate_pair)\n",
    "\n",
    "for ele in candidate_pair:\n",
    "    for i in range(len(ele)):\n",
    "        for j in range(i+1, len(ele)):\n",
    "            if (ele[i], ele[j]) not in Jaccard_res.keys():\n",
    "                res = Jaccard_sim(ele[i], ele[j])\n",
    "                Jaccard_res[ele[i], ele[j]] = res"
   ]
  },
  {
   "cell_type": "code",
   "execution_count": 14,
   "metadata": {},
   "outputs": [
    {
     "data": {
      "text/plain": [
       "[((11, 19), 1.0),\n",
       " ((51, 83), 1.0),\n",
       " ((46, 48), 0.7551020408163265),\n",
       " ((29, 34), 0.7069306930693069),\n",
       " ((48, 87), 0.5081585081585082),\n",
       " ((47, 48), 0.48300117233294254),\n",
       " ((22, 37), 0.480719794344473),\n",
       " ((13, 39), 0.3968253968253968),\n",
       " ((46, 87), 0.38515901060070673),\n",
       " ((46, 47), 0.36557231588287487)]"
      ]
     },
     "execution_count": 14,
     "metadata": {},
     "output_type": "execute_result"
    }
   ],
   "source": [
    "res = sorted(Jaccard_res.items(), key=lambda s:s[1], reverse=True)\n",
    "res[:10]"
   ]
  },
  {
   "cell_type": "markdown",
   "metadata": {},
   "source": [
    "# 儲存檔案"
   ]
  },
  {
   "cell_type": "code",
   "execution_count": 15,
   "metadata": {},
   "outputs": [],
   "source": [
    "with open(\"Outputfile.txt\", 'w') as fp:\n",
    "    for i in range(10):\n",
    "        fp.write(\"({0},{1}):{2}\\n\".format(res[i][0][0]+1, res[i][0][1]+1, res[i][1]))"
   ]
  },
  {
   "cell_type": "code",
   "execution_count": null,
   "metadata": {},
   "outputs": [],
   "source": []
  },
  {
   "cell_type": "code",
   "execution_count": null,
   "metadata": {},
   "outputs": [],
   "source": []
  },
  {
   "cell_type": "code",
   "execution_count": null,
   "metadata": {},
   "outputs": [],
   "source": []
  },
  {
   "cell_type": "code",
   "execution_count": null,
   "metadata": {},
   "outputs": [],
   "source": []
  }
 ],
 "metadata": {
  "kernelspec": {
   "display_name": "Python 3",
   "language": "python",
   "name": "python3"
  },
  "language_info": {
   "codemirror_mode": {
    "name": "ipython",
    "version": 3
   },
   "file_extension": ".py",
   "mimetype": "text/x-python",
   "name": "python",
   "nbconvert_exporter": "python",
   "pygments_lexer": "ipython3",
   "version": "3.6.12"
  }
 },
 "nbformat": 4,
 "nbformat_minor": 4
}
