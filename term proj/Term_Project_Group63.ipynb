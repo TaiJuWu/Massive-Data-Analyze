{
 "cells": [
  {
   "cell_type": "markdown",
   "metadata": {},
   "source": [
    "# Rcommand System Implement\n",
    "## dataSet comes from https://grouplens.org/datasets/movielens/\n",
    "## ml-latest-small.zip\n",
    "## output (userId, movieId) predicate rate"
   ]
  },
  {
   "cell_type": "markdown",
   "metadata": {},
   "source": [
    "# 讀取資料，並且使用movies計算總共有幾個movie在計算最後的結果時才知道有幾個movies"
   ]
  },
  {
   "cell_type": "code",
   "execution_count": null,
   "metadata": {},
   "outputs": [],
   "source": [
    "movies = set()\n",
    "def readData(inputFile):·\n",
    "    global movies\n",
    "    with open(inputFile) as fp:\n",
    "        data = fp.readlines()\n",
    "\n",
    "    data = data[1:]\n",
    "    for i in range(len(data)):\n",
    "        data[i] = data[i].strip().split(',')[:3]\n",
    "        data[i][0] = int(data[i][0])\n",
    "        data[i][1] = int(data[i][1])\n",
    "        movies.add(data[i][1])\n",
    "        data[i][2] = float(data[i][2])\n",
    "    return data"
   ]
  },
  {
   "cell_type": "code",
   "execution_count": null,
   "metadata": {},
   "outputs": [],
   "source": [
    "data = readData('ml-latest-small/ratings.csv')\n",
    "data[:10]"
   ]
  },
  {
   "cell_type": "code",
   "execution_count": null,
   "metadata": {},
   "outputs": [],
   "source": [
    "for i in range(len(data)):\n",
    "    if data[i][2] == 0.0:\n",
    "        print(i)"
   ]
  },
  {
   "cell_type": "markdown",
   "metadata": {},
   "source": [
    "# 系統設定與資訊"
   ]
  },
  {
   "cell_type": "code",
   "execution_count": null,
   "metadata": {},
   "outputs": [],
   "source": [
    "import sys\n",
    "sys.version"
   ]
  },
  {
   "cell_type": "code",
   "execution_count": null,
   "metadata": {},
   "outputs": [],
   "source": [
    "import pyspark\n",
    "from pyspark import SparkContext, SparkConf\n",
    "import math\n",
    "import os\n",
    "\n",
    "\n",
    "conf = SparkConf().setMaster(\"local[*]\").setAppName(\"Project\").set(\"spark.yarn.executor.memoryOverhead\",\"4096\").set(\"spark.driver.maxResultSize\",\"16G\").set(\"spark.driver.memory\",\"64G\").set(\"spark.executor.memory\",\"16G\").set(\"spark.network.timeout\",\"7200s\")\n",
    "sc = SparkContext(conf=conf).getOrCreate()"
   ]
  },
  {
   "cell_type": "markdown",
   "metadata": {},
   "source": [
    "# test data"
   ]
  },
  {
   "cell_type": "code",
   "execution_count": null,
   "metadata": {},
   "outputs": [],
   "source": [
    "test_data = [ # type is uer-id, movie id, score\n",
    "    [0, 0, 4], [0, 3, 5], [0, 4, 1],\n",
    "    [1, 0, 5], [1, 1, 5], [1, 2, 4],\n",
    "    [2, 3, 2], [2, 4, 4], [2, 5, 5],\n",
    "    [3, 1, 3], [3, 6, 3]\n",
    "]"
   ]
  },
  {
   "cell_type": "code",
   "execution_count": null,
   "metadata": {},
   "outputs": [],
   "source": [
    "test_data2 = [ # type is movieId ,userId ,score\n",
    "    [1, 1, 1], [1, 3, 3], [1, 6, 5], [1, 9, 5], [1, 11, 4],\n",
    "    [2, 3, 5], [2, 4, 4], [2, 7, 4], [2, 10, 2], [2, 11, 1], [2, 12, 3],\n",
    "    [3, 1, 2], [3, 2, 4], [3, 4, 1], [3, 5, 2], [3, 7, 3], [3, 9, 4], [3, 10, 3], [3, 11, 5],\n",
    "    [4, 2, 2], [4, 3, 4], [4, 5, 5], [4, 8, 4], [4, 11, 2],\n",
    "    [5, 3, 4], [5, 4, 3], [5, 5, 4], [5, 6, 2], [5, 11, 2], [5, 12, 5],\n",
    "    [6, 1, 1], [6, 3, 3], [6, 5, 3], [6, 8, 2], [6, 11, 4]\n",
    "]\n",
    "for i in range(len(test_data2)):\n",
    "    temp = test_data2[i][0]\n",
    "    test_data2[i][0] = test_data2[i][1]\n",
    "    test_data2[i][1] = temp\n",
    "# sorted(test_data2)"
   ]
  },
  {
   "cell_type": "markdown",
   "metadata": {},
   "source": [
    "# 需要幾個最相似的item來計算推薦值"
   ]
  },
  {
   "cell_type": "code",
   "execution_count": null,
   "metadata": {},
   "outputs": [],
   "source": [
    "topK = 10"
   ]
  },
  {
   "cell_type": "markdown",
   "metadata": {},
   "source": [
    "### input data是[userId, movieId, score]\n",
    "### 透過第一個map去掉userId,只剩下movieId,再將相同的movieId聚集起來\n",
    "### 再透過mapValue取的movies的平均分數"
   ]
  },
  {
   "cell_type": "code",
   "execution_count": null,
   "metadata": {},
   "outputs": [],
   "source": [
    "inputMat = sc.parallelize(data)\n",
    "point_for_each_item = inputMat.map(lambda s:(s[1], s[2])).groupByKey() # user得到他所有的評分\n",
    "avg_point_for_each_item = point_for_each_item.mapValues(lambda s:sum(s)/len(s)) # user總分的平均值"
   ]
  },
  {
   "cell_type": "code",
   "execution_count": null,
   "metadata": {},
   "outputs": [],
   "source": [
    "# for ele in avg_point_for_each_item.sortByKey().collect()[:10]:\n",
    "#     print(ele[0], (ele[1]))"
   ]
  },
  {
   "cell_type": "markdown",
   "metadata": {},
   "source": [
    "## 將input 轉換為 (movieId, (userId, score))的形式\n",
    "## 再將上述結果與前面計算的movieId平均值相減\n",
    "## 就可以得到扣除平均值的結果"
   ]
  },
  {
   "cell_type": "code",
   "execution_count": null,
   "metadata": {},
   "outputs": [],
   "source": [
    "point_minus_avg = inputMat.map(lambda s:(s[1], (s[0], s[2]))) # type (movieId, (userId, score))\n",
    "point_minus_avg = point_minus_avg.join(avg_point_for_each_item) # type(movieId, ((userId, score), avg))\n",
    "point_minus_avg = point_minus_avg.map(lambda s:((s[0], s[1][0][0]), s[1][0][1]-s[1][1])) # type ((movieId, userId), score)"
   ]
  },
  {
   "cell_type": "code",
   "execution_count": null,
   "metadata": {},
   "outputs": [],
   "source": [
    "# point_minus_avg.sortByKey().collect()[:10]"
   ]
  },
  {
   "cell_type": "markdown",
   "metadata": {},
   "source": [
    "## 計算cosim similarity的方法\n",
    "### 首先將item1與item2有的value平方相加開根號\n",
    "### 再根據暴力法找看過相同的movie並且相乘在相加"
   ]
  },
  {
   "cell_type": "code",
   "execution_count": null,
   "metadata": {},
   "outputs": [],
   "source": [
    "# calculate cosine similarity\n",
    "def cosim(_input):\n",
    "    item1_L2_nor = 0\n",
    "    for ele in list(_input[0][1]):\n",
    "        item1_L2_nor += (ele[1]**2)\n",
    "    item1_L2_nor = item1_L2_nor ** 0.5\n",
    "\n",
    "    item2_L2_nor = 0\n",
    "    for ele in list(_input[1][1]):\n",
    "        item2_L2_nor += (ele[1]**2)\n",
    "    item2_L2_nor = item2_L2_nor ** 0.5\n",
    "    \n",
    "    rxi_ryi = 0\n",
    "    for ele1 in list(_input[0][1]):\n",
    "        for ele2 in list(_input[1][1]):\n",
    "            if(ele1[0] == ele2[0]):\n",
    "                rxi_ryi += (ele1[1] * ele2[1])\n",
    "                break\n",
    "    if item1_L2_nor * item2_L2_nor != 0:\n",
    "        return ((_input[0][0], _input[1][0]), rxi_ryi/(item1_L2_nor * item2_L2_nor))\n",
    "    else:\n",
    "        return ((_input[0][0], _input[1][0]), 0.0)"
   ]
  },
  {
   "cell_type": "markdown",
   "metadata": {},
   "source": [
    "### point_minus_avg.map將資料轉換為(movieId, (userId, score))\n",
    "### 透過item_score.cartesian(item_score)得到所有的pair\n",
    "### 利用filter刪除 (2, 1)這種case，防止(2, 1),(1, 2)重複計算\n",
    "### all_pair_for_item.map(cosim)得到所有的movie pair的similarity"
   ]
  },
  {
   "cell_type": "code",
   "execution_count": null,
   "metadata": {},
   "outputs": [],
   "source": [
    "item_score = point_minus_avg.map(lambda s:(s[0][0], (s[0][1],s[1]))).groupByKey() # type(movieId, (userId, score))\n",
    "all_pair_for_item = item_score.cartesian(item_score).filter(lambda s: s[0][0] < s[1][0]) #type((movie1, (userid, score)), (movie2, (userid, score)))\n",
    "all_pair_score_for_item = all_pair_for_item.map(cosim) # type((movieId1, movieId2), similarity)"
   ]
  },
  {
   "cell_type": "code",
   "execution_count": null,
   "metadata": {},
   "outputs": [],
   "source": [
    "# all_pair_score_for_item.sortByKey().collect()[:10]"
   ]
  },
  {
   "cell_type": "markdown",
   "metadata": {},
   "source": [
    "### all_pair_score_for_item.map(....)將所有資料轉為(similarity, ((movie1, movie2), (movie2, movie1)))\n",
    "### 透過all_pair_score_for_item.flatMapValues 將資料轉為(similarity, (movie1, movie2))，如此一來也能得到(2, 1)的similarity\n",
    "### 最後在map成 ((movie1, movie2), score)的形式"
   ]
  },
  {
   "cell_type": "code",
   "execution_count": null,
   "metadata": {},
   "outputs": [],
   "source": [
    "# type (score, ((movie1, movie2), (movie2, movie1)))\n",
    "all_pair_score_for_item = all_pair_score_for_item.map(lambda s:(s[1], ((s[0][0], s[0][1]), (s[0][1],s[0][0]))))\n",
    "# type ((movie1, movie2), score)\n",
    "all_pair_score_for_item = all_pair_score_for_item.flatMapValues(lambda s: s).map(lambda s:(s[1], s[0])) "
   ]
  },
  {
   "cell_type": "code",
   "execution_count": null,
   "metadata": {},
   "outputs": [],
   "source": [
    "# all_pair_score_for_item.sortByKey().collect()[:10]"
   ]
  },
  {
   "cell_type": "markdown",
   "metadata": {},
   "source": [
    "### 將movie依照similarity排序\n",
    "### ele當中為(movie, similarity)"
   ]
  },
  {
   "cell_type": "code",
   "execution_count": null,
   "metadata": {},
   "outputs": [],
   "source": [
    "def sort_similarity(_input):\n",
    "    ele = list(_input[1])\n",
    "    ele = sorted(ele, key=lambda s:s[1], reverse=True)            \n",
    "    return (_input[0], ele)"
   ]
  },
  {
   "cell_type": "markdown",
   "metadata": {},
   "source": [
    "### all_pair_score_for_item.map將item轉為(movieId, sorted similarity)\n",
    "### sorted similarity是list每個element為(item, score)並且根據score的大小進行排序"
   ]
  },
  {
   "cell_type": "code",
   "execution_count": null,
   "metadata": {},
   "outputs": [],
   "source": [
    "# type (movie,similarity list)\n",
    "similarity_score_for_each_item = all_pair_score_for_item.map(lambda s:((s[0][0]), (s[0][1], s[1]))).groupByKey().map(sort_similarity)"
   ]
  },
  {
   "cell_type": "code",
   "execution_count": null,
   "metadata": {},
   "outputs": [],
   "source": [
    "# similarity_score_for_each_item.collect()[:10]"
   ]
  },
  {
   "cell_type": "markdown",
   "metadata": {},
   "source": [
    "### 得到user沒看過的movieId"
   ]
  },
  {
   "cell_type": "code",
   "execution_count": null,
   "metadata": {},
   "outputs": [],
   "source": [
    "def get_unRating(_input):\n",
    "    global movies\n",
    "    movie_list = list(movies)\n",
    "    for ele in list(_input):\n",
    "        movie_list.pop(movie_list.index(ele[0]))\n",
    "\n",
    "    return movie_list"
   ]
  },
  {
   "cell_type": "markdown",
   "metadata": {},
   "source": [
    "### 得到user對movie的pred"
   ]
  },
  {
   "cell_type": "code",
   "execution_count": null,
   "metadata": {},
   "outputs": [],
   "source": [
    "def get_rate(_input):\n",
    "    label = dict()\n",
    "    for ele in list(_input[1][0][1]): ## user have seen movie\n",
    "        label[ele[0]] = ele[1]\n",
    "    count = 0\n",
    "    pred = 0\n",
    "    weight_list = []\n",
    "    for j in range(len(_input[1][1])):\n",
    "        if _input[1][1][j][0] in label.keys() and _input[1][1][j][1]>0:\n",
    "            pred += (_input[1][1][j][1] * label[_input[1][1][j][0]])\n",
    "            weight_list.append(_input[1][1][j][1])\n",
    "            count += 1\n",
    "            if(count == topK):\n",
    "                break\n",
    "    weight_sum = sum(weight_list)\n",
    "    if weight_sum == 0:\n",
    "        return ((_input[1][0][0], _input[0]), 0)\n",
    "    else:\n",
    "        return ((_input[1][0][0], _input[0]), pred/sum(weight_list))"
   ]
  },
  {
   "cell_type": "markdown",
   "metadata": {},
   "source": [
    "### 從input當中得到最大的pred與之對應的moveId"
   ]
  },
  {
   "cell_type": "code",
   "execution_count": null,
   "metadata": {},
   "outputs": [],
   "source": [
    "def get_max_pred(_input):\n",
    "    res = list(_input)\n",
    "    res = sorted(res, key=lambda s:s[1], reverse=True)\n",
    "    return (res[0][0], res[0][1])"
   ]
  },
  {
   "cell_type": "markdown",
   "metadata": {},
   "source": [
    "### inputMat.map(...)得到user看過的所有電影 type為type(user ,list of (movie, score))\n",
    "### 透過get_unRating得到user沒看有過的movies，透過flatMapValues將type轉為 (user, unseen movie)\n",
    "### user_unrating.join(user_rating)得到user沒看過move和看過的movie list與rating\n",
    "### user_rating_and_unrating.map(...)將unseen movie當成key\n",
    "### user_rating_and_unrating.join(...) 得到了unseen movie的similarity score\n",
    "### 最後透過total_info.map(get_rate)得到((userId, movieId), pred)\n"
   ]
  },
  {
   "cell_type": "code",
   "execution_count": null,
   "metadata": {},
   "outputs": [],
   "source": [
    "user_rating = inputMat.map(lambda s:(s[0],(s[1], s[2]))).groupByKey() # type(user ,list of (movie, score))\n",
    "user_unseen = user_rating.mapValues(get_unRating).flatMapValues(lambda s:s) # type(userid, movieId)\n",
    "user_rating_and_unrating = user_unseen.join(user_rating) # type(userId, (unrating movie, list of (movie ,rating)))\n",
    "user_rating_and_unrating = user_rating_and_unrating.map(lambda s:(s[1][0], (s[0], s[1][1]))) # type(unrating movie, (userId, list of (movie ,rating)))\n",
    "total_info = user_rating_and_unrating.join(similarity_score_for_each_item)# type (unrating movie, ((userId, list of(movie, rating))), (similarity list for each item))\n",
    "user_unseen_rate = total_info.map(get_rate) # type(userId, (movieId, pred))\n",
    "res = user_unseen_rate.sortByKey().collect()"
   ]
  },
  {
   "cell_type": "markdown",
   "metadata": {},
   "source": [
    "### 將資料寫回file"
   ]
  },
  {
   "cell_type": "code",
   "execution_count": null,
   "metadata": {},
   "outputs": [],
   "source": [
    "with open(\"Outputfile.txt\", 'w') as fp:\n",
    "    for i in range(len(res)):\n",
    "        fp.write(\"({0},{1}),{2}\\n\".format(res[i][0][0], res[i][0][1], res[i][1]))"
   ]
  },
  {
   "cell_type": "code",
   "execution_count": null,
   "metadata": {},
   "outputs": [],
   "source": []
  },
  {
   "cell_type": "code",
   "execution_count": null,
   "metadata": {},
   "outputs": [],
   "source": []
  },
  {
   "cell_type": "code",
   "execution_count": null,
   "metadata": {},
   "outputs": [],
   "source": []
  }
 ],
 "metadata": {
  "kernelspec": {
   "display_name": "Python 3",
   "language": "python",
   "name": "python3"
  },
  "language_info": {
   "codemirror_mode": {
    "name": "ipython",
    "version": 3
   },
   "file_extension": ".py",
   "mimetype": "text/x-python",
   "name": "python",
   "nbconvert_exporter": "python",
   "pygments_lexer": "ipython3",
   "version": "3.6.12"
  }
 },
 "nbformat": 4,
 "nbformat_minor": 4
}
